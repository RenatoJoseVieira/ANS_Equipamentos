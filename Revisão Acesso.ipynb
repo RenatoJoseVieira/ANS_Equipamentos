{
 "cells": [
  {
   "cell_type": "markdown",
   "id": "c88c0b3a-94e6-4949-9942-9bed6258981f",
   "metadata": {},
   "source": [
    "# Bibliotecas"
   ]
  },
  {
   "cell_type": "code",
   "execution_count": 111,
   "id": "b916cd17-da43-4ea1-ab77-18adde84f602",
   "metadata": {},
   "outputs": [],
   "source": [
    "import numpy as np\n",
    "import pandas as pd\n",
    "import matplotlib.pyplot as plt\n",
    "import seaborn as sns\n",
    "from tqdm import tqdm\n",
    "pd.options.display.max_columns=1000\n",
    "import gc\n",
    "plt.style.use(\"ggplot\")\n",
    "\n",
    "from matplotlib_venn import venn2, venn2_circles, venn2_unweighted\n",
    "from matplotlib_venn import venn3, venn3_circles\n",
    "from matplotlib import pyplot as plt\n",
    "%matplotlib inline"
   ]
  },
  {
   "cell_type": "markdown",
   "id": "1cd00e5f-1e79-4299-9a27-762024c8a654",
   "metadata": {},
   "source": [
    "# Definições"
   ]
  },
  {
   "cell_type": "code",
   "execution_count": 112,
   "id": "c3019583-660d-4886-9b9a-47555d9d687a",
   "metadata": {},
   "outputs": [],
   "source": [
    "# Operadoras\n",
    "dicionario=pd.read_excel(\"C://Users//renjo//Documents//Python//Análise Bases ANS//Arquivos de Apoio//operadoras.xlsx\")\n",
    "operadoras=pd.Series(index=dicionario.CD_OPERADORA.values, data=dicionario.NM_RAZAO_SOCIAL.values)"
   ]
  },
  {
   "cell_type": "code",
   "execution_count": 113,
   "id": "17025079-f9bd-4650-86e9-3db1a4ebd1b8",
   "metadata": {},
   "outputs": [],
   "source": [
    "# Idade\n",
    "dicionario=pd.read_excel(\"C://Users//renjo//Documents//Python//Análise Bases ANS//Arquivos de Apoio//Codigos_Tabulação.xlsx\",\n",
    "                         sheet_name=\"Cod_Faixa_Etária\")\n",
    "faixas_etarias=pd.Series(index=dicionario[\"Unnamed: 0\"].values, data=dicionario.Faixa_Etária.values)"
   ]
  },
  {
   "cell_type": "code",
   "execution_count": 114,
   "id": "25323365-3781-4c5d-91b9-3ec56b844630",
   "metadata": {},
   "outputs": [],
   "source": [
    "# CNES\n",
    "# nome\n",
    "cnes=pd.read_excel(\"C://Users//renjo//Documents//Python//Bases DATASUS//CNES//Estabelecimentos_SP_Nov24.xlsx\")\n",
    "nome_hosp=pd.Series(index=cnes.CNES.values, data=cnes[\"NOME FANTASIA\"].values)"
   ]
  },
  {
   "cell_type": "code",
   "execution_count": 115,
   "id": "03d879b6-e67e-4276-9031-17469901bf8c",
   "metadata": {},
   "outputs": [],
   "source": [
    "gde_sp=[355030, 350390, 350570, 350660, 350900,350920, 351060, 351300,\n",
    "        351380, 351500, 351510, 351570, 351630, 351640, 351830, 351880,\n",
    "        352220, 352310, 352250, 352500, 352620, 352850, 352940, 353060,\n",
    "        353440, 353910, 353980, 354330, 354410, 354500, 354680, 354730,\n",
    "        354780, 354870, 354880, 354995, 355250, 355645, 355280]"
   ]
  },
  {
   "cell_type": "markdown",
   "id": "d8033f48-3541-43a9-8c1f-7bdbc49420fd",
   "metadata": {},
   "source": [
    "# Dados"
   ]
  },
  {
   "cell_type": "code",
   "execution_count": 116,
   "id": "bcc8a83d-f8ef-4597-8ef2-6f7b2989d452",
   "metadata": {},
   "outputs": [
    {
     "name": "stderr",
     "output_type": "stream",
     "text": [
      "C:\\Users\\renjo\\AppData\\Local\\Temp\\ipykernel_15588\\2022540016.py:3: DtypeWarning: Columns (4) have mixed types. Specify dtype option on import or set low_memory=False.\n",
      "  planos=pd.read_csv(\"C://Users//renjo//Documents//Python//Análise Bases ANS//Bases_ANS//Prestadores_Ativos_SP.csv\", encoding=\"utf-8\", sep=\";\")\n"
     ]
    }
   ],
   "source": [
    "beneficiarios=pd.read_csv(\"C://Users//renjo//Documents//Python//Análise Bases ANS//Bases_ANS//Beneficiarios_SP.csv\", encoding=\"latin1\", sep=\";\")\n",
    "beneficiarios=beneficiarios.iloc[:,1:]\n",
    "planos=pd.read_csv(\"C://Users//renjo//Documents//Python//Análise Bases ANS//Bases_ANS//Prestadores_Ativos_SP.csv\", encoding=\"utf-8\", sep=\";\")\n",
    "planos=planos.iloc[:,1:]"
   ]
  },
  {
   "cell_type": "code",
   "execution_count": 117,
   "id": "8231bbf7-c997-4942-b1a5-628a258ea01a",
   "metadata": {},
   "outputs": [],
   "source": [
    "beneficiarios=beneficiarios[beneficiarios.CD_MUNICIPIO.isin(gde_sp)]\n",
    "planos=planos[planos.Chave.isin(beneficiarios.Chave.unique())]"
   ]
  },
  {
   "cell_type": "markdown",
   "id": "12e9bf1e-fc9e-4ded-a135-15bbf0491a5c",
   "metadata": {},
   "source": [
    "# Análise Dados"
   ]
  },
  {
   "cell_type": "markdown",
   "id": "8578c4d7-9ea7-4851-bf6d-4ac7e14b8903",
   "metadata": {},
   "source": [
    "## População e Hospitais no Estado de SP"
   ]
  },
  {
   "cell_type": "code",
   "execution_count": 118,
   "id": "f569a698-4598-4bdd-81bb-2d39ee6e9f37",
   "metadata": {},
   "outputs": [],
   "source": [
    "# Definindo DF com os planos\n",
    "df=pd.DataFrame(index=planos.Chave.unique())"
   ]
  },
  {
   "cell_type": "code",
   "execution_count": 119,
   "id": "fd3808e4-766a-4d8f-b1c2-7794ff6ab11b",
   "metadata": {},
   "outputs": [],
   "source": [
    "df[\"População\"]=beneficiarios[\"QT_BENEFICIARIO_ATIVO\"].groupby(beneficiarios.Chave).sum()\n",
    "df[\"População\"]=df.População.fillna(0)"
   ]
  },
  {
   "cell_type": "code",
   "execution_count": 120,
   "id": "769d8540-52fd-4866-a581-9f71cde3836f",
   "metadata": {},
   "outputs": [],
   "source": [
    "# Colocando número de hospitais\n",
    "parcial=planos.drop_duplicates(subset=[\"CD_CNES\", \"Chave\"])\n",
    "df[\"Hospitais\"]=parcial.Chave.value_counts()"
   ]
  },
  {
   "cell_type": "code",
   "execution_count": 121,
   "id": "29883d1f-d632-4d06-bdc1-8d524d23b6c1",
   "metadata": {},
   "outputs": [
    {
     "data": {
      "text/html": [
       "<div>\n",
       "<style scoped>\n",
       "    .dataframe tbody tr th:only-of-type {\n",
       "        vertical-align: middle;\n",
       "    }\n",
       "\n",
       "    .dataframe tbody tr th {\n",
       "        vertical-align: top;\n",
       "    }\n",
       "\n",
       "    .dataframe thead th {\n",
       "        text-align: right;\n",
       "    }\n",
       "</style>\n",
       "<table border=\"1\" class=\"dataframe\">\n",
       "  <thead>\n",
       "    <tr style=\"text-align: right;\">\n",
       "      <th></th>\n",
       "      <th>População</th>\n",
       "      <th>Hospitais</th>\n",
       "    </tr>\n",
       "  </thead>\n",
       "  <tbody>\n",
       "    <tr>\n",
       "      <th>477-000900/025256</th>\n",
       "      <td>1</td>\n",
       "      <td>225</td>\n",
       "    </tr>\n",
       "    <tr>\n",
       "      <th>477-001300/000326</th>\n",
       "      <td>3</td>\n",
       "      <td>228</td>\n",
       "    </tr>\n",
       "    <tr>\n",
       "      <th>477-001300/015536</th>\n",
       "      <td>1</td>\n",
       "      <td>228</td>\n",
       "    </tr>\n",
       "    <tr>\n",
       "      <th>477-000900/029427</th>\n",
       "      <td>16</td>\n",
       "      <td>225</td>\n",
       "    </tr>\n",
       "    <tr>\n",
       "      <th>477-001500/000181</th>\n",
       "      <td>1</td>\n",
       "      <td>228</td>\n",
       "    </tr>\n",
       "    <tr>\n",
       "      <th>...</th>\n",
       "      <td>...</td>\n",
       "      <td>...</td>\n",
       "    </tr>\n",
       "    <tr>\n",
       "      <th>359017-498803245</th>\n",
       "      <td>49</td>\n",
       "      <td>1</td>\n",
       "    </tr>\n",
       "    <tr>\n",
       "      <th>411752-105</th>\n",
       "      <td>174</td>\n",
       "      <td>1</td>\n",
       "    </tr>\n",
       "    <tr>\n",
       "      <th>420166-435743014</th>\n",
       "      <td>3</td>\n",
       "      <td>1</td>\n",
       "    </tr>\n",
       "    <tr>\n",
       "      <th>333051-467970129</th>\n",
       "      <td>287</td>\n",
       "      <td>1</td>\n",
       "    </tr>\n",
       "    <tr>\n",
       "      <th>359017-498801249</th>\n",
       "      <td>82</td>\n",
       "      <td>1</td>\n",
       "    </tr>\n",
       "  </tbody>\n",
       "</table>\n",
       "<p>11086 rows × 2 columns</p>\n",
       "</div>"
      ],
      "text/plain": [
       "                   População  Hospitais\n",
       "477-000900/025256          1        225\n",
       "477-001300/000326          3        228\n",
       "477-001300/015536          1        228\n",
       "477-000900/029427         16        225\n",
       "477-001500/000181          1        228\n",
       "...                      ...        ...\n",
       "359017-498803245          49          1\n",
       "411752-105               174          1\n",
       "420166-435743014           3          1\n",
       "333051-467970129         287          1\n",
       "359017-498801249          82          1\n",
       "\n",
       "[11086 rows x 2 columns]"
      ]
     },
     "execution_count": 121,
     "metadata": {},
     "output_type": "execute_result"
    }
   ],
   "source": [
    "df"
   ]
  },
  {
   "cell_type": "code",
   "execution_count": 122,
   "id": "8d7ea5e7-54ab-4648-9f97-fb70508f05bc",
   "metadata": {},
   "outputs": [],
   "source": [
    "df2=df.População.groupby(df.Hospitais).sum()\n",
    "df2=pd.DataFrame(df2)\n",
    "df2[\"CumSum\"]=df2.População.cumsum()\n",
    "df2[\"Percentual\"]=df2.CumSum/df2.População.sum()"
   ]
  },
  {
   "cell_type": "code",
   "execution_count": 123,
   "id": "2053f10b-c6d9-4359-b64a-fc5ff5d2997c",
   "metadata": {},
   "outputs": [
    {
     "data": {
      "image/png": "[encoded data removed]",
      "text/plain": [
       "<Figure size 640x480 with 1 Axes>"
      ]
     },
     "metadata": {},
     "output_type": "display_data"
    }
   ],
   "source": [
    "plt.plot(df2.index, df2.Percentual)\n",
    "plt.xlim(0,600)\n",
    "plt.ylim(0,1.01)\n",
    "vals=np.arange(0,1.1,0.2)\n",
    "plt.yticks(vals, [str(int(x*100))+\"%\" for x in vals])\n",
    "plt.title(\"Relação entre População Conveniada e Acesso a Hospitais\")\n",
    "plt.xlabel(\"Número de Hospitais Acessíveis\")\n",
    "plt.ylabel(\"População Conveniada (%) com Acesso\")\n",
    "\n",
    "plt.show()"
   ]
  },
  {
   "cell_type": "markdown",
   "id": "0946945f-eb39-4683-94ff-6064574445c5",
   "metadata": {},
   "source": [
    "# Entendendo acesso a equipamentos"
   ]
  },
  {
   "cell_type": "code",
   "execution_count": 201,
   "id": "855fcafb-c960-44d4-8b5a-78ab992c2116",
   "metadata": {},
   "outputs": [],
   "source": [
    "equipamentos=pd.read_csv(\"C://Users//renjo//Documents//Python//Bases DATASUS//CNES//Equipamentos_SP_Out24.csv\", sep=\";\", encoding=\"latin1\")"
   ]
  },
  {
   "cell_type": "code",
   "execution_count": 202,
   "id": "981efade-268b-4867-befa-100a9d186040",
   "metadata": {},
   "outputs": [],
   "source": [
    "# Definindo Equipamentos\n",
    "tabela_eq=pd.DataFrame(index=equipamentos.CNES.unique())"
   ]
  },
  {
   "cell_type": "code",
   "execution_count": 203,
   "id": "d0a204db-2d4d-4f86-866a-32d81ddf53a9",
   "metadata": {},
   "outputs": [],
   "source": [
    "# Incluindo Total de Equipamentos\n",
    "parcial=equipamentos[equipamentos.CODEQUIP==12]\n",
    "tabela_eq[\"Ressonância\"]=parcial[\"QT_EXIST\"].groupby(parcial.CNES).sum()\n",
    "tabela_eq[\"Ressonância\"]=tabela_eq[\"Ressonância\"].fillna(0)\n",
    "\n",
    "# Incluindo Total de CT\n",
    "parcial=equipamentos[equipamentos.CODEQUIP==11]\n",
    "tabela_eq[\"CT\"]=parcial[\"QT_EXIST\"].groupby(parcial.CNES).sum()\n",
    "tabela_eq[\"CT\"]=tabela_eq[\"CT\"].fillna(0)\n",
    "\n",
    "\n",
    "# Incluindo Total de Hemodinâmica\n",
    "parcial=equipamentos[equipamentos.CODEQUIP==10]\n",
    "tabela_eq[\"Hemodinâmica\"]=parcial[\"QT_EXIST\"].groupby(parcial.CNES).sum()\n",
    "tabela_eq[\"Hemodinâmica\"]=tabela_eq[\"Hemodinâmica\"].fillna(0)\n",
    "\n",
    "# Incluindo Total de Hemodiálise\n",
    "parcial=equipamentos[equipamentos.CODEQUIP==77]\n",
    "tabela_eq[\"Hemodiálise\"]=parcial[\"QT_EXIST\"].groupby(parcial.CNES).sum()\n",
    "tabela_eq[\"Hemodiálise\"]=tabela_eq[\"Hemodiálise\"].fillna(0)"
   ]
  },
  {
   "cell_type": "code",
   "execution_count": 204,
   "id": "264be472-2b19-496f-aa5e-c0d3674a5d74",
   "metadata": {},
   "outputs": [
    {
     "data": {
      "text/plain": [
       "Ressonância      837.0\n",
       "CT              3120.0\n",
       "Hemodinâmica     578.0\n",
       "Hemodiálise     8929.0\n",
       "dtype: float64"
      ]
     },
     "execution_count": 204,
     "metadata": {},
     "output_type": "execute_result"
    }
   ],
   "source": [
    "tabela_eq.sum()"
   ]
  },
  {
   "cell_type": "code",
   "execution_count": 205,
   "id": "b9274607-2d23-4592-9ea5-059c362f03ba",
   "metadata": {},
   "outputs": [],
   "source": [
    "# Olhando estes dados como disponibilidade\n",
    "def perfilização(x):\n",
    "    if x<=70:\n",
    "        return \"Até 70 Hospitais\"\n",
    "    elif x<=300:\n",
    "        return \"de 71 a 300 Hospitais\"\n",
    "    else:\n",
    "        return \"> 300 Hospitais\"\n",
    "\n",
    "df[\"Perfil\"]=df.Hospitais.apply(lambda x: perfilização(x))"
   ]
  },
  {
   "cell_type": "code",
   "execution_count": 206,
   "id": "25e2243f-813d-49fd-8652-d53e5b423e20",
   "metadata": {},
   "outputs": [
    {
     "name": "stderr",
     "output_type": "stream",
     "text": [
      "100%|███████████████████████████████████████████████████████████████████████████| 11086/11086 [00:32<00:00, 342.43it/s]\n"
     ]
    }
   ],
   "source": [
    "# Filtra apenas os registros de planos relevantes\n",
    "planos_filtrados = planos[planos.Chave.isin(df.index)]\n",
    "\n",
    "# Cria um mapeamento entre Chave e CD_CNES, considerando apenas os CD_CNES presentes em tabela_eq\n",
    "mapeamento_hosps = planos_filtrados.groupby(\"Chave\")[\"CD_CNES\"].apply(\n",
    "    lambda x: [cn for cn in x.unique() if cn in tabela_eq.index]\n",
    ")\n",
    "\n",
    "# Inicializa listas de resultados\n",
    "rnm = []\n",
    "ct = []\n",
    "hemod = []\n",
    "hemodl = []\n",
    "\n",
    "# Itera sobre as chaves do dataframe principal\n",
    "for i in tqdm(df.index):\n",
    "    hosps = mapeamento_hosps.get(i, [])\n",
    "    tabela = tabela_eq.loc[hosps]\n",
    "    \n",
    "    # Calcula os somatórios para cada categoria\n",
    "    rnm.append(tabela[\"Ressonância\"].sum())\n",
    "    ct.append(tabela[\"CT\"].sum())\n",
    "    hemod.append(tabela[\"Hemodinâmica\"].sum())\n",
    "    hemodl.append(tabela[\"Hemodiálise\"].sum())\n"
   ]
  },
  {
   "cell_type": "code",
   "execution_count": 207,
   "id": "ae9012eb-b577-43ad-b4e2-6bed5c54b7b7",
   "metadata": {},
   "outputs": [],
   "source": [
    "df[\"RNM\"]=rnm\n",
    "df[\"TC\"]=ct\n",
    "df[\"Hemodinâmica\"]=hemod\n",
    "df[\"Hemodiálise\"]=hemodl"
   ]
  },
  {
   "cell_type": "code",
   "execution_count": 210,
   "id": "ff2d0169-872e-4716-91b3-2c942a4867d1",
   "metadata": {},
   "outputs": [],
   "source": [
    "# Tentando entender Acesso\n",
    "tabela=pd.DataFrame(index=[\"Até 70 Hospitais\", \"de 71 a 300 Hospitais\", \"> 300 Hospitais\"])"
   ]
  },
  {
   "cell_type": "code",
   "execution_count": 213,
   "id": "3fe45684-4db0-49b2-9a56-4ef354213a60",
   "metadata": {},
   "outputs": [],
   "source": [
    "# Completando tabela\n",
    "tabela[\"Beneficiários\"]=df.População.groupby(df.Perfil).sum()"
   ]
  },
  {
   "cell_type": "code",
   "execution_count": 225,
   "id": "7f1c7746-b19f-4aa0-a7aa-136b55c3ba9a",
   "metadata": {},
   "outputs": [
    {
     "name": "stderr",
     "output_type": "stream",
     "text": [
      "C:\\Users\\renjo\\AppData\\Local\\Temp\\ipykernel_15588\\1841740238.py:5: SettingWithCopyWarning: \n",
      "A value is trying to be set on a copy of a slice from a DataFrame.\n",
      "Try using .loc[row_indexer,col_indexer] = value instead\n",
      "\n",
      "See the caveats in the documentation: https://pandas.pydata.org/pandas-docs/stable/user_guide/indexing.html#returning-a-view-versus-a-copy\n",
      "  parcial[\"Produto\"]=parcial[coluna]*parcial.População\n",
      "C:\\Users\\renjo\\AppData\\Local\\Temp\\ipykernel_15588\\1841740238.py:5: SettingWithCopyWarning: \n",
      "A value is trying to be set on a copy of a slice from a DataFrame.\n",
      "Try using .loc[row_indexer,col_indexer] = value instead\n",
      "\n",
      "See the caveats in the documentation: https://pandas.pydata.org/pandas-docs/stable/user_guide/indexing.html#returning-a-view-versus-a-copy\n",
      "  parcial[\"Produto\"]=parcial[coluna]*parcial.População\n",
      "C:\\Users\\renjo\\AppData\\Local\\Temp\\ipykernel_15588\\1841740238.py:5: SettingWithCopyWarning: \n",
      "A value is trying to be set on a copy of a slice from a DataFrame.\n",
      "Try using .loc[row_indexer,col_indexer] = value instead\n",
      "\n",
      "See the caveats in the documentation: https://pandas.pydata.org/pandas-docs/stable/user_guide/indexing.html#returning-a-view-versus-a-copy\n",
      "  parcial[\"Produto\"]=parcial[coluna]*parcial.População\n",
      "C:\\Users\\renjo\\AppData\\Local\\Temp\\ipykernel_15588\\1841740238.py:5: SettingWithCopyWarning: \n",
      "A value is trying to be set on a copy of a slice from a DataFrame.\n",
      "Try using .loc[row_indexer,col_indexer] = value instead\n",
      "\n",
      "See the caveats in the documentation: https://pandas.pydata.org/pandas-docs/stable/user_guide/indexing.html#returning-a-view-versus-a-copy\n",
      "  parcial[\"Produto\"]=parcial[coluna]*parcial.População\n",
      "C:\\Users\\renjo\\AppData\\Local\\Temp\\ipykernel_15588\\1841740238.py:5: SettingWithCopyWarning: \n",
      "A value is trying to be set on a copy of a slice from a DataFrame.\n",
      "Try using .loc[row_indexer,col_indexer] = value instead\n",
      "\n",
      "See the caveats in the documentation: https://pandas.pydata.org/pandas-docs/stable/user_guide/indexing.html#returning-a-view-versus-a-copy\n",
      "  parcial[\"Produto\"]=parcial[coluna]*parcial.População\n",
      "C:\\Users\\renjo\\AppData\\Local\\Temp\\ipykernel_15588\\1841740238.py:5: SettingWithCopyWarning: \n",
      "A value is trying to be set on a copy of a slice from a DataFrame.\n",
      "Try using .loc[row_indexer,col_indexer] = value instead\n",
      "\n",
      "See the caveats in the documentation: https://pandas.pydata.org/pandas-docs/stable/user_guide/indexing.html#returning-a-view-versus-a-copy\n",
      "  parcial[\"Produto\"]=parcial[coluna]*parcial.População\n",
      "C:\\Users\\renjo\\AppData\\Local\\Temp\\ipykernel_15588\\1841740238.py:5: SettingWithCopyWarning: \n",
      "A value is trying to be set on a copy of a slice from a DataFrame.\n",
      "Try using .loc[row_indexer,col_indexer] = value instead\n",
      "\n",
      "See the caveats in the documentation: https://pandas.pydata.org/pandas-docs/stable/user_guide/indexing.html#returning-a-view-versus-a-copy\n",
      "  parcial[\"Produto\"]=parcial[coluna]*parcial.População\n",
      "C:\\Users\\renjo\\AppData\\Local\\Temp\\ipykernel_15588\\1841740238.py:5: SettingWithCopyWarning: \n",
      "A value is trying to be set on a copy of a slice from a DataFrame.\n",
      "Try using .loc[row_indexer,col_indexer] = value instead\n",
      "\n",
      "See the caveats in the documentation: https://pandas.pydata.org/pandas-docs/stable/user_guide/indexing.html#returning-a-view-versus-a-copy\n",
      "  parcial[\"Produto\"]=parcial[coluna]*parcial.População\n",
      "C:\\Users\\renjo\\AppData\\Local\\Temp\\ipykernel_15588\\1841740238.py:5: SettingWithCopyWarning: \n",
      "A value is trying to be set on a copy of a slice from a DataFrame.\n",
      "Try using .loc[row_indexer,col_indexer] = value instead\n",
      "\n",
      "See the caveats in the documentation: https://pandas.pydata.org/pandas-docs/stable/user_guide/indexing.html#returning-a-view-versus-a-copy\n",
      "  parcial[\"Produto\"]=parcial[coluna]*parcial.População\n",
      "C:\\Users\\renjo\\AppData\\Local\\Temp\\ipykernel_15588\\1841740238.py:5: SettingWithCopyWarning: \n",
      "A value is trying to be set on a copy of a slice from a DataFrame.\n",
      "Try using .loc[row_indexer,col_indexer] = value instead\n",
      "\n",
      "See the caveats in the documentation: https://pandas.pydata.org/pandas-docs/stable/user_guide/indexing.html#returning-a-view-versus-a-copy\n",
      "  parcial[\"Produto\"]=parcial[coluna]*parcial.População\n",
      "C:\\Users\\renjo\\AppData\\Local\\Temp\\ipykernel_15588\\1841740238.py:5: SettingWithCopyWarning: \n",
      "A value is trying to be set on a copy of a slice from a DataFrame.\n",
      "Try using .loc[row_indexer,col_indexer] = value instead\n",
      "\n",
      "See the caveats in the documentation: https://pandas.pydata.org/pandas-docs/stable/user_guide/indexing.html#returning-a-view-versus-a-copy\n",
      "  parcial[\"Produto\"]=parcial[coluna]*parcial.População\n",
      "C:\\Users\\renjo\\AppData\\Local\\Temp\\ipykernel_15588\\1841740238.py:5: SettingWithCopyWarning: \n",
      "A value is trying to be set on a copy of a slice from a DataFrame.\n",
      "Try using .loc[row_indexer,col_indexer] = value instead\n",
      "\n",
      "See the caveats in the documentation: https://pandas.pydata.org/pandas-docs/stable/user_guide/indexing.html#returning-a-view-versus-a-copy\n",
      "  parcial[\"Produto\"]=parcial[coluna]*parcial.População\n"
     ]
    }
   ],
   "source": [
    "for coluna in ['RNM', 'TC', 'Hemodinâmica','Hemodiálise']:\n",
    "    for i in tabela.index:\n",
    "        parcial=df[df.Perfil==i]\n",
    "\n",
    "        parcial[\"Produto\"]=parcial[coluna]*parcial.População\n",
    "        tabela.loc[i,coluna]=parcial.Produto.sum()/tabela.loc[i,\"Beneficiários\"]\n",
    "        "
   ]
  },
  {
   "cell_type": "code",
   "execution_count": 227,
   "id": "e894f239-9225-4226-b4bf-03c93ed243dd",
   "metadata": {},
   "outputs": [],
   "source": [
    "tabela.to_excel(\"Acesso_Tecnologia.xlsx\")"
   ]
  },
  {
   "cell_type": "code",
   "execution_count": null,
   "id": "e7b73019-3946-4352-a78d-892db5a286b8",
   "metadata": {},
   "outputs": [],
   "source": []
  }
 ],
 "metadata": {
  "kernelspec": {
   "display_name": "Python 3 (ipykernel)",
   "language": "python",
   "name": "python3"
  },
  "language_info": {
   "codemirror_mode": {
    "name": "ipython",
    "version": 3
   },
   "file_extension": ".py",
   "mimetype": "text/x-python",
   "name": "python",
   "nbconvert_exporter": "python",
   "pygments_lexer": "ipython3",
   "version": "3.11.7"
  },
  "widgets": {
   "application/vnd.jupyter.widget-state+json": {
    "state": {},
    "version_major": 2,
    "version_minor": 0
   }
  }
 },
 "nbformat": 4,
 "nbformat_minor": 5
}
